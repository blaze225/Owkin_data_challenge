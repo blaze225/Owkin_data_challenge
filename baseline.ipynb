{
 "cells": [
  {
   "cell_type": "markdown",
   "metadata": {},
   "source": [
    "# Baseline Model Implementation using Lifelines package"
   ]
  },
  {
   "cell_type": "code",
   "execution_count": 1,
   "metadata": {},
   "outputs": [],
   "source": [
    "import pandas as pd\n",
    "import numpy as np\n",
    "import os\n",
    "from lifelines import KaplanMeierFitter,CoxPHFitter"
   ]
  },
  {
   "cell_type": "code",
   "execution_count": 2,
   "metadata": {},
   "outputs": [],
   "source": [
    "train_path = '../files_provided/data/train/'\n",
    "test_path = '../files_provided/data/test/'"
   ]
  },
  {
   "cell_type": "code",
   "execution_count": 61,
   "metadata": {},
   "outputs": [],
   "source": [
    "features_to_select = ['original_shape_Sphericity','original_shape_SurfaceVolumeRatio','original_shape_Maximum3DDiameter',\n",
    "                      'SourceDataset','Nstage','original_glcm_JointEntropy',\n",
    "                      'original_glcm_Idn','original_glcm_Idmn']"
   ]
  },
  {
   "cell_type": "code",
   "execution_count": 62,
   "metadata": {},
   "outputs": [],
   "source": [
    "def get_features_from_csvs(path):\n",
    "    \"\"\"Extract features from radiomics and clinical_data csvs into a combined DataFrame\"\"\"\n",
    "    dfr = pd.read_csv(path + 'features/radiomics.csv',skiprows=[0,2])\n",
    "    dfc = pd.read_csv(path + 'features/clinical_data.csv')\n",
    "    # Labeling the unlabled column\n",
    "    dfr.columns.values[0] = \"PatientID\"\n",
    "    # Changing the 'SourceDataset' column to categorical\n",
    "    dfc.SourceDataset = pd.Categorical(dfc.SourceDataset)\n",
    "    dfc.SourceDataset = dfc.SourceDataset.cat.codes\n",
    "    # Joining the dataframes on 'PatientID'\n",
    "    df_joined = dfc.join(dfr.set_index('PatientID'), on='PatientID')\n",
    "    return df_joined\n",
    "\n",
    "# print(df_joined.head())"
   ]
  },
  {
   "cell_type": "code",
   "execution_count": 63,
   "metadata": {},
   "outputs": [],
   "source": [
    "# Creating the Training DataFrame\n",
    "df_train = get_features_from_csvs(train_path)\n",
    "dfl = pd.read_csv(train_path + 'train_labels.csv')\n",
    "# Join with labels \n",
    "df_train = df_train.join(dfl.set_index('PatientID'), on='PatientID')\n",
    "# Selecting the 8 baseline features along with ['SurvivalTime','Event']\n",
    "df_train = df_train[features_to_select + ['SurvivalTime','Event']]\n",
    "# df_train"
   ]
  },
  {
   "cell_type": "code",
   "execution_count": 64,
   "metadata": {},
   "outputs": [],
   "source": [
    "# Creating the Testing DataFrame\n",
    "df_test = get_features_from_csvs(test_path)\n",
    "# Selecting the 8 baseline features\n",
    "df_test = df_test[features_to_select]\n",
    "# df_test"
   ]
  },
  {
   "cell_type": "code",
   "execution_count": 65,
   "metadata": {},
   "outputs": [
    {
     "data": {
      "text/html": [
       "<div>\n",
       "<style scoped>\n",
       "    .dataframe tbody tr th:only-of-type {\n",
       "        vertical-align: middle;\n",
       "    }\n",
       "\n",
       "    .dataframe tbody tr th {\n",
       "        vertical-align: top;\n",
       "    }\n",
       "\n",
       "    .dataframe thead th {\n",
       "        text-align: right;\n",
       "    }\n",
       "</style>\n",
       "<table border=\"1\" class=\"dataframe\">\n",
       "  <tbody>\n",
       "    <tr>\n",
       "      <th>model</th>\n",
       "      <td>lifelines.CoxPHFitter</td>\n",
       "    </tr>\n",
       "    <tr>\n",
       "      <th>duration col</th>\n",
       "      <td>'SurvivalTime'</td>\n",
       "    </tr>\n",
       "    <tr>\n",
       "      <th>event col</th>\n",
       "      <td>'Event'</td>\n",
       "    </tr>\n",
       "    <tr>\n",
       "      <th>number of observations</th>\n",
       "      <td>300</td>\n",
       "    </tr>\n",
       "    <tr>\n",
       "      <th>number of events observed</th>\n",
       "      <td>162</td>\n",
       "    </tr>\n",
       "    <tr>\n",
       "      <th>partial log-likelihood</th>\n",
       "      <td>-801.67</td>\n",
       "    </tr>\n",
       "    <tr>\n",
       "      <th>time fit was run</th>\n",
       "      <td>2020-02-13 13:29:09 UTC</td>\n",
       "    </tr>\n",
       "  </tbody>\n",
       "</table>\n",
       "</div><table border=\"1\" class=\"dataframe\">\n",
       "  <thead>\n",
       "    <tr style=\"text-align: right;\">\n",
       "      <th></th>\n",
       "      <th>coef</th>\n",
       "      <th>exp(coef)</th>\n",
       "      <th>se(coef)</th>\n",
       "      <th>coef lower 95%</th>\n",
       "      <th>coef upper 95%</th>\n",
       "      <th>exp(coef) lower 95%</th>\n",
       "      <th>exp(coef) upper 95%</th>\n",
       "      <th>z</th>\n",
       "      <th>p</th>\n",
       "      <th>-log2(p)</th>\n",
       "    </tr>\n",
       "  </thead>\n",
       "  <tbody>\n",
       "    <tr>\n",
       "      <th>original_shape_Sphericity</th>\n",
       "      <td>2.27</td>\n",
       "      <td>9.69</td>\n",
       "      <td>1.37</td>\n",
       "      <td>-0.41</td>\n",
       "      <td>4.95</td>\n",
       "      <td>0.66</td>\n",
       "      <td>141.70</td>\n",
       "      <td>1.66</td>\n",
       "      <td>0.10</td>\n",
       "      <td>3.37</td>\n",
       "    </tr>\n",
       "    <tr>\n",
       "      <th>original_shape_SurfaceVolumeRatio</th>\n",
       "      <td>1.36</td>\n",
       "      <td>3.91</td>\n",
       "      <td>1.15</td>\n",
       "      <td>-0.89</td>\n",
       "      <td>3.62</td>\n",
       "      <td>0.41</td>\n",
       "      <td>37.38</td>\n",
       "      <td>1.18</td>\n",
       "      <td>0.24</td>\n",
       "      <td>2.08</td>\n",
       "    </tr>\n",
       "    <tr>\n",
       "      <th>original_shape_Maximum3DDiameter</th>\n",
       "      <td>0.01</td>\n",
       "      <td>1.01</td>\n",
       "      <td>0.00</td>\n",
       "      <td>0.00</td>\n",
       "      <td>0.02</td>\n",
       "      <td>1.00</td>\n",
       "      <td>1.02</td>\n",
       "      <td>2.13</td>\n",
       "      <td>0.03</td>\n",
       "      <td>4.93</td>\n",
       "    </tr>\n",
       "    <tr>\n",
       "      <th>SourceDataset</th>\n",
       "      <td>-0.94</td>\n",
       "      <td>0.39</td>\n",
       "      <td>0.29</td>\n",
       "      <td>-1.51</td>\n",
       "      <td>-0.38</td>\n",
       "      <td>0.22</td>\n",
       "      <td>0.69</td>\n",
       "      <td>-3.27</td>\n",
       "      <td>&lt;0.005</td>\n",
       "      <td>9.86</td>\n",
       "    </tr>\n",
       "    <tr>\n",
       "      <th>Nstage</th>\n",
       "      <td>0.12</td>\n",
       "      <td>1.13</td>\n",
       "      <td>0.07</td>\n",
       "      <td>-0.02</td>\n",
       "      <td>0.27</td>\n",
       "      <td>0.98</td>\n",
       "      <td>1.31</td>\n",
       "      <td>1.66</td>\n",
       "      <td>0.10</td>\n",
       "      <td>3.36</td>\n",
       "    </tr>\n",
       "    <tr>\n",
       "      <th>original_glcm_JointEntropy</th>\n",
       "      <td>0.22</td>\n",
       "      <td>1.25</td>\n",
       "      <td>0.13</td>\n",
       "      <td>-0.03</td>\n",
       "      <td>0.47</td>\n",
       "      <td>0.97</td>\n",
       "      <td>1.60</td>\n",
       "      <td>1.75</td>\n",
       "      <td>0.08</td>\n",
       "      <td>3.65</td>\n",
       "    </tr>\n",
       "    <tr>\n",
       "      <th>original_glcm_Idn</th>\n",
       "      <td>46.72</td>\n",
       "      <td>1.95e+20</td>\n",
       "      <td>18.45</td>\n",
       "      <td>10.56</td>\n",
       "      <td>82.88</td>\n",
       "      <td>38466.17</td>\n",
       "      <td>9.90e+35</td>\n",
       "      <td>2.53</td>\n",
       "      <td>0.01</td>\n",
       "      <td>6.46</td>\n",
       "    </tr>\n",
       "    <tr>\n",
       "      <th>original_glcm_Idmn</th>\n",
       "      <td>-89.09</td>\n",
       "      <td>0.00</td>\n",
       "      <td>38.69</td>\n",
       "      <td>-164.93</td>\n",
       "      <td>-13.25</td>\n",
       "      <td>0.00</td>\n",
       "      <td>0.00</td>\n",
       "      <td>-2.30</td>\n",
       "      <td>0.02</td>\n",
       "      <td>5.55</td>\n",
       "    </tr>\n",
       "  </tbody>\n",
       "</table><div>\n",
       "<style scoped>\n",
       "    .dataframe tbody tr th:only-of-type {\n",
       "        vertical-align: middle;\n",
       "    }\n",
       "\n",
       "    .dataframe tbody tr th {\n",
       "        vertical-align: top;\n",
       "    }\n",
       "\n",
       "    .dataframe thead th {\n",
       "        text-align: right;\n",
       "    }\n",
       "</style>\n",
       "<table border=\"1\" class=\"dataframe\">\n",
       "  <tbody>\n",
       "    <tr>\n",
       "      <th>Concordance</th>\n",
       "      <td>0.70</td>\n",
       "    </tr>\n",
       "    <tr>\n",
       "      <th>Log-likelihood ratio test</th>\n",
       "      <td>74.54 on 8 df, -log2(p)=40.58</td>\n",
       "    </tr>\n",
       "  </tbody>\n",
       "</table>\n",
       "</div>"
      ],
      "text/plain": [
       "<IPython.core.display.HTML object>"
      ]
     },
     "metadata": {},
     "output_type": "display_data"
    }
   ],
   "source": [
    "# Using the Cox’s proportional hazard model implementation from the 'lifelines' package\n",
    "cph = CoxPHFitter()\n",
    "cph.fit(df_train, 'SurvivalTime', event_col='Event')\n",
    "cph.print_summary()"
   ]
  },
  {
   "cell_type": "code",
   "execution_count": 66,
   "metadata": {},
   "outputs": [
    {
     "data": {
      "text/plain": [
       "125"
      ]
     },
     "execution_count": 66,
     "metadata": {},
     "output_type": "execute_result"
    }
   ],
   "source": [
    "# Get test PatientsID list\n",
    "df = pd.read_csv(test_path + 'features/clinical_data.csv')\n",
    "test_patient_list = df['PatientID'].to_list()  \n",
    "len(test_patient_list)"
   ]
  },
  {
   "cell_type": "code",
   "execution_count": 67,
   "metadata": {},
   "outputs": [
    {
     "name": "stdout",
     "output_type": "stream",
     "text": [
      "     PatientID  SurvivalTime  Event\n",
      "0           13    652.803074    NaN\n",
      "1          155   1444.081720    NaN\n",
      "2          404    828.677308    NaN\n",
      "3          407    965.317241    NaN\n",
      "4            9   2764.311832    NaN\n",
      "..         ...           ...    ...\n",
      "120         66    365.062549    NaN\n",
      "121        132    671.351587    NaN\n",
      "122        169   2455.078042    NaN\n",
      "123        199    421.190052    NaN\n",
      "124        274    853.650339    NaN\n",
      "\n",
      "[125 rows x 3 columns]\n"
     ]
    }
   ],
   "source": [
    "# Predicting on the test set\n",
    "survival_times = cph.predict_expectation(df_test)\n",
    "survival_times = list(survival_times.values.flatten())\n",
    "df_predicted = pd.DataFrame({'PatientID':test_patient_list, 'SurvivalTime':survival_times, 'Event':np.nan})\n",
    "print(df_predicted)\n",
    "df_predicted.to_csv('out.csv',index=False)"
   ]
  },
  {
   "cell_type": "code",
   "execution_count": null,
   "metadata": {},
   "outputs": [],
   "source": []
  },
  {
   "cell_type": "code",
   "execution_count": null,
   "metadata": {},
   "outputs": [],
   "source": []
  }
 ],
 "metadata": {
  "kernelspec": {
   "display_name": "Python 3",
   "language": "python",
   "name": "python3"
  },
  "language_info": {
   "codemirror_mode": {
    "name": "ipython",
    "version": 3
   },
   "file_extension": ".py",
   "mimetype": "text/x-python",
   "name": "python",
   "nbconvert_exporter": "python",
   "pygments_lexer": "ipython3",
   "version": "3.7.3"
  }
 },
 "nbformat": 4,
 "nbformat_minor": 4
}
